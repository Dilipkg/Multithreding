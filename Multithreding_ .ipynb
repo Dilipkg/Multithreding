{
 "cells": [
  {
   "cell_type": "markdown",
   "id": "48b9cd53-2b51-4f51-b0a6-04429669bded",
   "metadata": {},
   "source": [
    "#Q1. What is multithreading in python? why is it used? Name the module used to handle threads in python\n",
    "\n",
    "Multithreading in Python refers to the concurrent execution of multiple threads within a single program. Multithreading is used to achieve parallelism, responsiveness, and efficient resource utilization in Python programs\n",
    "The threading module in Python is used to handle threads. It provides a high-level interface for creating and managing threads in Python programs. \n",
    "import threading\n",
    "def print_numbers():\n",
    "    for i in range(1, 6):\n",
    "        print(f\"Thread 1: {i}\")\n",
    "thread1 = threading.Thread(target=print_numbers)\n",
    "thread1.start()\n",
    "for i in range(1, 6):\n",
    "    print(f\"Main Thread: {i}\")\n",
    "thread1.join()\n",
    "\n",
    "\n"
   ]
  },
  {
   "cell_type": "markdown",
   "id": "e5d9541d-6de9-45a0-b0c6-734fe804439d",
   "metadata": {},
   "source": [
    "#Q2. hy threading module used? rite the use of the following functions\n",
    "( activeCount\n",
    " currentThread\n",
    " f)\n",
    "\n",
    "A thread is a sequence of such instructions within a program that can be executed independently of other code. For simplicity, you can assume that a thread is simply a subset of a process!\n",
    "1> activeCount-\n",
    "def start(self):\n",
    "        if self.finalized:\n",
    "            self.bus.log('Already deamonized.')\n",
    "        if threading.activeCount() != 1:\n",
    "            self.bus.log('There are %r active threads. '\n",
    "                         'Daemonizing now may cause strange failures.' %threading.enumerate(), level=30)\n",
    "        self.daemonize(self.stdin, self.stdout, self.stderr, self.bus.log)\n",
    "        self.finalized = True\n",
    "2>currentThread- \n",
    "import threading\n",
    "\n",
    "def print_current_thread():\n",
    "    current_thread = threading.current_thread()\n",
    "    print(\"Current Thread Name:\", current_thread.name)\n",
    "print(\"Main Thread Name:\", threading.current_thread().name)\n",
    "thread = threading.Thread(target=print_current_thread)\n",
    "thread.start()\n",
    "thread.join()\n",
    "print(\"All threads finished\")\n",
    "\n",
    "3.enumerate-\n",
    "fruits = ['apple', 'banana', 'orange']\n",
    "for index, fruit in enumerate(fruits):\n",
    "    print(f\"At index {index}, the fruit is {fruit}.\")\n",
    "\n"
   ]
  },
  {
   "cell_type": "markdown",
   "id": "ac1ebea5-23ee-41a1-a641-79e034bc7884",
   "metadata": {},
   "source": [
    "Q3.\n",
    "1.run():\n",
    "The run() method is a function that represents the code to be executed when a thread is run. It is typically overridden in a custom thread class to define the specific tasks that the thread should perform\n",
    "import threading\n",
    "class MyThread(threading.Thread):\n",
    "    def run(self):\n",
    "        print(\"Thread is running\")\n",
    "thread = MyThread()\n",
    "thread.run()\n",
    "\n",
    "2.start():\n",
    "The start() method is used to start the execution of a thread. When you call start() on a thread object, it initiates the execution of the run() method of that thread in a separate thread of control.\n",
    "import threading\n",
    "def task():\n",
    "    print(\"Thread is running\")\n",
    "thread = threading.Thread(target=task)\n",
    "thread.start()\n",
    "\n",
    "3.join():\n",
    "The join() method is used to wait for a thread to complete its execution. When you call join() on a thread object, the calling thread (typically the main thread) will pause and wait until the thread being joined finishes its execution.\n",
    "import threading\n",
    "def task():\n",
    "    print(\"Thread is running\")\n",
    "thread = threading.Thread(target=task)\n",
    "thread.start()\n",
    "thread.join()\n",
    "print(\"All threads finished\")\n",
    "\n",
    "4.isAlive():\n",
    "The isAlive() method is used to check whether a thread is currently running or active. When you call isAlive() on a thread object, it returns True if the thread is still running or has not yet finished its execution. Otherwise, it returns False.\n",
    "import threading\n",
    "import time\n",
    "def task():\n",
    "    time.sleep(2)\n",
    "thread = threading.Thread(target=task)\n",
    "thread.start()\n",
    "print(\"Thread is alive:\", thread.isAlive())\n",
    "thread.join()\n",
    "print(\"Thread is alive:\", thread.isAlive())"
   ]
  },
  {
   "cell_type": "markdown",
   "id": "abc9e251-0e0d-4e84-8699-2d333ccd63f8",
   "metadata": {},
   "source": [
    "#Q4. Write a python program to create two threads. Thread one must print the list of squares and thread two must print the list of cubes.\n",
    "\n",
    "import threading\n",
    "def cube(num):\n",
    "    print(\"cube:{}\".format(num*num*num))\n",
    "def square(num):\n",
    "    print(\"Squre:{}\". format(num*num))\n",
    "\n",
    "if __name__==\"__main__\":\n",
    "    t1=threading.Thread(target=square, args=(10,))\n",
    "    t2=threading.Thread(target=cube, args=(10,))\n",
    "    t1.start()\n",
    "    t2.start()\n",
    "    t1.join()\n",
    "    t2.join()"
   ]
  },
  {
   "cell_type": "markdown",
   "id": "f3bda2d1-ab9a-45b5-b33c-d054a83570ce",
   "metadata": {},
   "source": [
    "Q5.\n",
    "Advantages:\n",
    "Improved performance: Multithreading can enhance the performance of an application by leveraging the capabilities of modern CPUs with multiple cores. It allows for parallel execution of tasks, enabling efficient utilization of available resources.\n",
    "Responsiveness: By using multithreading, you can keep the user interface of an application responsive while performing intensive computations or long-running operations in the background. This ensures a smooth user experience, as the UI remains interactive and doesn't get blocked.\n",
    "Disadvantages:\n",
    "Complexity: Multithreaded programming introduces additional complexity, such as handling thread synchronization, race conditions, and shared resource access. Proper synchronization mechanisms, such as locks or semaphores, are required to ensure thread safety and prevent issues like data corruption or deadlocks.\n",
    "Debugging and testing: Multithreaded programs can be more challenging to debug and test compared to single-threaded applications. Issues related to thread synchronization, race conditions, or deadlocks may arise, making it harder to reproduce and diagnose problems.\n"
   ]
  },
  {
   "cell_type": "markdown",
   "id": "77cd999e-0498-4f82-a0a2-caac78bd9767",
   "metadata": {},
   "source": [
    "Q6.\n",
    "Deadlocks:\n",
    "A deadlock occurs when two or more threads are blocked indefinitely, waiting for each other to release resources that they hold. In other words, each thread is waiting for a resource that is held by another thread, resulting in a situation where none of the threads can proceed. This can lead to a program freeze or a significant reduction in performance\n",
    "Race Conditions:\n",
    "A race condition occurs when multiple threads access shared data concurrently, and the final outcome of the program depends on the timing and order of their execution. In other words, the result of the program becomes unpredictable because the threads \"race\" to access and modify shared resources\n"
   ]
  }
 ],
 "metadata": {
  "kernelspec": {
   "display_name": "Python 3 (ipykernel)",
   "language": "python",
   "name": "python3"
  },
  "language_info": {
   "codemirror_mode": {
    "name": "ipython",
    "version": 3
   },
   "file_extension": ".py",
   "mimetype": "text/x-python",
   "name": "python",
   "nbconvert_exporter": "python",
   "pygments_lexer": "ipython3",
   "version": "3.10.8"
  }
 },
 "nbformat": 4,
 "nbformat_minor": 5
}
